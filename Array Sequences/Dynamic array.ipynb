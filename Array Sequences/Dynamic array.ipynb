{
 "cells": [
  {
   "cell_type": "markdown",
   "metadata": {
    "collapsed": false
   },
   "source": [
    "# Dynamic array Exersice"
   ]
  },
  {
   "cell_type": "code",
   "execution_count": 4,
   "metadata": {
    "collapsed": false
   },
   "outputs": [
    {
     "ename": "SyntaxError",
     "evalue": "invalid syntax (<ipython-input-4-531f2e217402>, line 13)",
     "output_type": "error",
     "traceback": [
      "\u001b[0;36m  File \u001b[0;32m\"<ipython-input-4-531f2e217402>\"\u001b[0;36m, line \u001b[0;32m13\u001b[0m\n\u001b[0;31m    else return self.A[k]\u001b[0m\n\u001b[0m              ^\u001b[0m\n\u001b[0;31mSyntaxError\u001b[0m\u001b[0;31m:\u001b[0m invalid syntax\n"
     ]
    }
   ],
   "source": [
    "import ctypes\n",
    "\n",
    "class DynamicArrays:\n",
    "    def __init__(self):\n",
    "        self.n=0 # Count actual elements (Default is 0)\n",
    "        self.capacity=0 # deafult capacity\n",
    "        self.A= self.make_array(self.capacity)\n",
    "    def __len__(self):\n",
    "        return self.n\n",
    "    def __get__item(self,k):\n",
    "        if not 0 <= k <self.n:\n",
    "            return IndexError('K is out of bounds!')\n",
    "        else:\n",
    "            return self.A[k]\n",
    "    def append(self,ele):\n",
    "        if self.n ==self.capacity:\n",
    "            self.resize(2*self.capacity)\n",
    "        self.A[self.n]=ele\n",
    "        self.n +=1\n",
    "    def _resize(self,new_cap):\n",
    "        B=self.make_array(new_cap) #New bigger array\n",
    "        for k in range (self.n): # Reference all existing values\n",
    "            B[k]=self.A[k] \n",
    "        self.A=B # Call A the new bigger array\n",
    "        self.capacity=new_capacity\n",
    "    def make_array(self,new_cap):\n",
    "        \"\"\"\n",
    "        Returns a new array with new_cap capacity\n",
    "        \"\"\"\n",
    "        return (new_cap * ctypes.py_object)()\n",
    "    "
   ]
  },
  {
   "cell_type": "code",
   "execution_count": 0,
   "metadata": {
    "collapsed": false
   },
   "outputs": [
   ],
   "source": [
   ]
  }
 ],
 "metadata": {
  "kernelspec": {
   "display_name": "Python 3 (system-wide)",
   "language": "python",
   "metadata": {
    "cocalc": {
     "description": "Python 3 programming language",
     "priority": 100,
     "url": "https://www.python.org/"
    }
   },
   "name": "python3"
  },
  "language_info": {
   "codemirror_mode": {
    "name": "ipython",
    "version": 3
   },
   "file_extension": ".py",
   "mimetype": "text/x-python",
   "name": "python",
   "nbconvert_exporter": "python",
   "pygments_lexer": "ipython3",
   "version": "3.6.8"
  }
 },
 "nbformat": 4,
 "nbformat_minor": 0
}