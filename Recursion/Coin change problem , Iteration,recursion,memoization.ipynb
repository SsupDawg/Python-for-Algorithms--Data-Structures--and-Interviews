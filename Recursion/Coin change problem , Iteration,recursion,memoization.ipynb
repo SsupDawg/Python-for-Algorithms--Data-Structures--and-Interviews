{
 "cells": [
  {
   "cell_type": "markdown",
   "metadata": {
    "collapsed": false
   },
   "source": [
    "# Recursion"
   ]
  },
  {
   "cell_type": "code",
   "execution_count": 1,
   "metadata": {
    "collapsed": false
   },
   "outputs": [
   ],
   "source": [
    "def coin_rec(target,coins):\n",
    "    min_coin =target\n",
    "    if target in coins:\n",
    "        return 1\n",
    "    for c in [coin for coin in coins if coin <=target]:\n",
    "        count = coin_rec(target-c,coins)+1\n",
    "        if count< min_coin:\n",
    "            min_coin=count\n",
    "    return min_coin"
   ]
  },
  {
   "cell_type": "code",
   "execution_count": 2,
   "metadata": {
    "collapsed": false
   },
   "outputs": [
    {
     "data": {
      "text/plain": [
       "2"
      ]
     },
     "execution_count": 2,
     "metadata": {
     },
     "output_type": "execute_result"
    }
   ],
   "source": [
    "\n",
    "coin_rec(10,[1,5,2])"
   ]
  },
  {
   "cell_type": "markdown",
   "metadata": {
    "collapsed": false
   },
   "source": [
    "# Memoization"
   ]
  },
  {
   "cell_type": "code",
   "execution_count": 5,
   "metadata": {
    "collapsed": false
   },
   "outputs": [
   ],
   "source": [
    "\n",
    "memory={}\n",
    "def coin_rec_mem(target,coins):\n",
    "    min_coin =target\n",
    "    if target in coins:\n",
    "        memory[coin]=1\n",
    "    if target in memory:\n",
    "        return memory[target]\n",
    "    else:\n",
    "        for c in [coin for coin in coins if coin <=target]:\n",
    "            count = coin_rec(target-c,coins)+1\n",
    "            min_coin= min(min_coin,count)\n",
    "        memory[target]=min_coin\n",
    "    return memory[target]"
   ]
  },
  {
   "cell_type": "code",
   "execution_count": 6,
   "metadata": {
    "collapsed": false
   },
   "outputs": [
    {
     "data": {
      "text/plain": [
       "4"
      ]
     },
     "execution_count": 6,
     "metadata": {
     },
     "output_type": "execute_result"
    }
   ],
   "source": [
    "coin_rec_mem(10,[1,3,2])"
   ]
  },
  {
   "cell_type": "markdown",
   "metadata": {
    "collapsed": false
   },
   "source": [
    "# iteration"
   ]
  },
  {
   "cell_type": "code",
   "execution_count": 7,
   "metadata": {
    "collapsed": false
   },
   "outputs": [
   ],
   "source": [
    "def coin_iter(target,coins):\n",
    "    min_count={}\n",
    "    for i in range(0,target+1):\n",
    "        min_count[i]=i\n",
    "        for j in [c for c in coins if c <=i]:\n",
    "            if min_count[i-j]+1<min_count[i]:\n",
    "                min_count[i]=min_count[i-j]+1\n",
    "    return min_count[target]"
   ]
  },
  {
   "cell_type": "code",
   "execution_count": 8,
   "metadata": {
    "collapsed": false
   },
   "outputs": [
    {
     "data": {
      "text/plain": [
       "2"
      ]
     },
     "execution_count": 8,
     "metadata": {
     },
     "output_type": "execute_result"
    }
   ],
   "source": [
    "coin_iter(12,[3,6])"
   ]
  },
  {
   "cell_type": "code",
   "execution_count": 11,
   "metadata": {
    "collapsed": false
   },
   "outputs": [
   ],
   "source": [
    "def coin_iter(target,coins):\n",
    "    min_count={}\n",
    "    Min_coin_set={}\n",
    "    for i in range(0,target+1):\n",
    "        if i in coins:\n",
    "            Min_coin_set[i]=[i]\n",
    "        else:\n",
    "            Min_coin_set[i]=[] \n",
    "        min_count[i]=i\n",
    "        for j in [c for c in coins if c <=i]:\n",
    "            if min_count[i-j]+1<min_count[i]:\n",
    "                min_count[i]=min_count[i-j]+1\n",
    "                Min_coin_set[i]=Min_coin_set[i-j]+[j]\n",
    "    return min_count[target],Min_coin_set[i]"
   ]
  },
  {
   "cell_type": "code",
   "execution_count": 12,
   "metadata": {
    "collapsed": false
   },
   "outputs": [
    {
     "data": {
      "text/plain": [
       "(3, [5, 5, 5])"
      ]
     },
     "execution_count": 12,
     "metadata": {
     },
     "output_type": "execute_result"
    }
   ],
   "source": [
    "coin_iter(15,[2,5,6])"
   ]
  },
  {
   "cell_type": "code",
   "execution_count": 0,
   "metadata": {
    "collapsed": false
   },
   "outputs": [
   ],
   "source": [
   ]
  }
 ],
 "metadata": {
  "kernelspec": {
   "display_name": "Python 3 (system-wide)",
   "language": "python",
   "metadata": {
    "cocalc": {
     "description": "Python 3 programming language",
     "priority": 100,
     "url": "https://www.python.org/"
    }
   },
   "name": "python3"
  },
  "language_info": {
   "codemirror_mode": {
    "name": "ipython",
    "version": 3
   },
   "file_extension": ".py",
   "mimetype": "text/x-python",
   "name": "python",
   "nbconvert_exporter": "python",
   "pygments_lexer": "ipython3",
   "version": "3.6.8"
  }
 },
 "nbformat": 4,
 "nbformat_minor": 0
}