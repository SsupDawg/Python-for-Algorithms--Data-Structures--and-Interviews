{
 "cells": [
  {
   "cell_type": "markdown",
   "metadata": {
    "collapsed": false
   },
   "source": [
    "# Recursion Factorial"
   ]
  },
  {
   "cell_type": "code",
   "execution_count": 0,
   "metadata": {
    "collapsed": false
   },
   "outputs": [
   ],
   "source": [
    "def Fact(n):\n",
    "    if n==1:\n",
    "        return 1\n",
    "    else:\n",
    "        return n*Fact(n-1)\n",
    "Fact(10)\n",
    "    "
   ]
  },
  {
   "cell_type": "markdown",
   "metadata": {
    "collapsed": false
   },
   "source": [
    "# Recursion Factorial memorization"
   ]
  },
  {
   "cell_type": "code",
   "execution_count": 2,
   "metadata": {
    "collapsed": false
   },
   "outputs": [
    {
     "data": {
      "text/plain": [
       "120"
      ]
     },
     "execution_count": 2,
     "metadata": {
     },
     "output_type": "execute_result"
    }
   ],
   "source": [
    "factorial_memory={}\n",
    "def Fact(n):\n",
    "    if n==1:\n",
    "        return 1\n",
    "    else:\n",
    "        if not n in factorial_memory:\n",
    "            factorial_memory[n]=n* Fact(n-1)\n",
    "    return factorial_memory[n]\n",
    "Fact(5)"
   ]
  },
  {
   "cell_type": "markdown",
   "metadata": {
    "collapsed": false
   },
   "source": [
    "# Recursion Problem\n",
    "Write a recursive function which takes an integer and computes the cumulative sum of 0 to that integer"
   ]
  },
  {
   "cell_type": "code",
   "execution_count": 4,
   "metadata": {
    "collapsed": false
   },
   "outputs": [
   ],
   "source": [
    "def cum_sum(n):\n",
    "    if n==1:\n",
    "        return 1\n",
    "    else:\n",
    "        return cum_sum(n-1)+n"
   ]
  },
  {
   "cell_type": "markdown",
   "metadata": {
    "collapsed": false
   },
   "source": [
    "\n",
    "# Problem 2\n",
    "Given an integer, create a function which returns the sum of all the individual digits in that integer. For example: if n = 4321, return 4+3+2+1"
   ]
  },
  {
   "cell_type": "code",
   "execution_count": 5,
   "metadata": {
    "collapsed": false
   },
   "outputs": [
    {
     "data": {
      "text/plain": [
       "6"
      ]
     },
     "execution_count": 5,
     "metadata": {
     },
     "output_type": "execute_result"
    }
   ],
   "source": [
    "def sum_int(n):\n",
    "    if n<10:\n",
    "        return n\n",
    "    else:\n",
    "        return sum_int(n//10)+n%10\n",
    "sum_int(123)"
   ]
  },
  {
   "cell_type": "markdown",
   "metadata": {
    "collapsed": false
   },
   "source": [
    "# Recursion Problem\n",
    "Create a function called word_split() which takes in a string phrase and a set list_of_words. The function will then determine if it is possible to split the string in a way in which words can be made from the list of words. You can assume the phrase will only contain words found in the dictionary if it is completely splittable."
   ]
  },
  {
   "cell_type": "code",
   "execution_count": 22,
   "metadata": {
    "collapsed": false
   },
   "outputs": [
   ],
   "source": [
    "def word_split(s,arr,out=None):\n",
    "    if out==None:\n",
    "        out=[]\n",
    "    for item in arr:\n",
    "        if s.startswith(item):\n",
    "            out.append(item)\n",
    "            word_split(s[len(item):],arr,out)\n",
    "    return out\n",
    "\n",
    "            "
   ]
  },
  {
   "cell_type": "code",
   "execution_count": 23,
   "metadata": {
    "collapsed": false
   },
   "outputs": [
    {
     "data": {
      "text/plain": [
       "['the', 'man', 'ran']"
      ]
     },
     "execution_count": 23,
     "metadata": {
     },
     "output_type": "execute_result"
    }
   ],
   "source": [
    "word_split('themanran',['the','ran','man'])"
   ]
  },
  {
   "cell_type": "markdown",
   "metadata": {
    "collapsed": false
   },
   "source": [
    "\n",
    "# Reverse a String\n",
    "This interview question requires you to reverse a string using recursion. Make sure to think of the base case here."
   ]
  },
  {
   "cell_type": "code",
   "execution_count": 26,
   "metadata": {
    "collapsed": false
   },
   "outputs": [
    {
     "data": {
      "text/plain": [
       "'nashe'"
      ]
     },
     "execution_count": 26,
     "metadata": {
     },
     "output_type": "execute_result"
    }
   ],
   "source": [
    "def reverse(str):\n",
    "    if len(str)==1:\n",
    "        return str\n",
    "    else:\n",
    "        return str[len(str)-1]+reverse(str[0:len(str)-1])\n",
    "reverse('ehsan')"
   ]
  },
  {
   "cell_type": "markdown",
   "metadata": {
    "collapsed": false
   },
   "source": [
    "# Problem Statement\n",
    "Implement a Fibonnaci Sequence in three different ways:\n",
    "\n",
    "Recursively\n",
    "\n",
    "Dynamically (Using Memoization to store results)\n",
    "Iteratively\n"
   ]
  },
  {
   "cell_type": "code",
   "execution_count": 37,
   "metadata": {
    "collapsed": false
   },
   "outputs": [
    {
     "data": {
      "text/plain": [
       "8"
      ]
     },
     "execution_count": 37,
     "metadata": {
     },
     "output_type": "execute_result"
    }
   ],
   "source": [
    "def fib_recursive(n):\n",
    "    if n==0:\n",
    "        return 1\n",
    "    elif n==1:\n",
    "        return 1\n",
    "    else:\n",
    "        return fib_recursive(n-1)+fib_recursive(n-2)\n",
    "fib_recursive(5)\n",
    "    "
   ]
  },
  {
   "cell_type": "code",
   "execution_count": 56,
   "metadata": {
    "collapsed": false
   },
   "outputs": [
    {
     "data": {
      "text/plain": [
       "165580141"
      ]
     },
     "execution_count": 56,
     "metadata": {
     },
     "output_type": "execute_result"
    }
   ],
   "source": [
    "\n",
    "def fib_memoization(n,memory=None):\n",
    "    if memory==None:\n",
    "        memory={}\n",
    "    if n==0:\n",
    "        memory[0]=1\n",
    "    elif n==1:\n",
    "        memory[1]=1\n",
    "    else:\n",
    "        if n in memory:\n",
    "            return memory[n]\n",
    "        else:\n",
    "            memory[n]=fib_memorization(n-1,memory)+fib_memorization(n-2,memory)\n",
    "    return memory[n]\n",
    "fib_memorization(40)\n",
    "        \n",
    "    "
   ]
  },
  {
   "cell_type": "code",
   "execution_count": 68,
   "metadata": {
    "collapsed": false
   },
   "outputs": [
    {
     "data": {
      "text/plain": [
       "581811569836004006491505558634099066259034153405766997246569401"
      ]
     },
     "execution_count": 68,
     "metadata": {
     },
     "output_type": "execute_result"
    }
   ],
   "source": [
    "def fib_iterat(n):\n",
    "    a=1\n",
    "    b=1\n",
    "    for i in range(0,n):\n",
    "        a,b=b,a+b\n",
    "    return b\n",
    "fib_iterat(300)\n",
    "\n",
    "    "
   ]
  },
  {
   "cell_type": "markdown",
   "metadata": {
    "collapsed": false
   },
   "source": [
    "# Coin Change Problem"
   ]
  },
  {
   "cell_type": "code",
   "execution_count": 90,
   "metadata": {
    "collapsed": false
   },
   "outputs": [
   ],
   "source": [
    "def coin_rec(target,coins):\n",
    "    min_coin =target\n",
    "    if target in coins:\n",
    "        return 1\n",
    "    for c in [coin for coin in coins if coin <=target]:\n",
    "        count = coin_rec(target-c,coins)+1\n",
    "        if count< min_coin:\n",
    "            min_coin=count\n",
    "    return min_coin"
   ]
  },
  {
   "cell_type": "code",
   "execution_count": 91,
   "metadata": {
    "collapsed": false
   },
   "outputs": [
    {
     "data": {
      "text/plain": [
       "2"
      ]
     },
     "execution_count": 91,
     "metadata": {
     },
     "output_type": "execute_result"
    }
   ],
   "source": [
    "coin_rec(10,[1,5,2])"
   ]
  },
  {
   "cell_type": "code",
   "execution_count": 94,
   "metadata": {
    "collapsed": false
   },
   "outputs": [
   ],
   "source": [
    "memory={}\n",
    "def coin_rec_mem(target,coins):\n",
    "    min_coin =target\n",
    "    if target in coins:\n",
    "        memory[coin]=1\n",
    "    if target in memory:\n",
    "        return memory[target]\n",
    "    else:\n",
    "        for c in [coin for coin in coins if coin <=target]:\n",
    "            count = coin_rec(target-c,coins)+1\n",
    "            min_coin= min(min_coin,count)\n",
    "        memory[target]=min_coin\n",
    "    return memory[target]"
   ]
  },
  {
   "cell_type": "code",
   "execution_count": 98,
   "metadata": {
    "collapsed": false
   },
   "outputs": [
   ],
   "source": [
    "coin_rec_mem(100,[1,3,2])"
   ]
  },
  {
   "cell_type": "markdown",
   "metadata": {
    "collapsed": false
   },
   "source": [
    "# Iteration"
   ]
  },
  {
   "cell_type": "code",
   "execution_count": 25,
   "metadata": {
    "collapsed": false
   },
   "outputs": [
   ],
   "source": [
    "def coin_iter(target,coins):\n",
    "    min_count={}\n",
    "    for i in range(0,target+1):\n",
    "        min_count[i]=i\n",
    "        for j in [c for c in coins if c <=i]:\n",
    "            if min_count[i-j]+1<min_count[i]:\n",
    "                min_count[i]=min_count[i-j]+1\n",
    "    return min_count[target]"
   ]
  },
  {
   "cell_type": "code",
   "execution_count": 27,
   "metadata": {
    "collapsed": false
   },
   "outputs": [
    {
     "data": {
      "text/plain": [
       "2"
      ]
     },
     "execution_count": 27,
     "metadata": {
     },
     "output_type": "execute_result"
    }
   ],
   "source": [
    "coin_iter(12,[3,6])"
   ]
  },
  {
   "cell_type": "code",
   "execution_count": 3,
   "metadata": {
    "collapsed": false
   },
   "outputs": [
   ],
   "source": [
    "def coin_iter(target,coins):\n",
    "    min_count={}\n",
    "    Min_coin_set={}\n",
    "    for i in range(0,target+1):\n",
    "        if i in coins:\n",
    "            Min_coin_set[i]=[i]\n",
    "        else:\n",
    "            Min_coin_set[i]=[] \n",
    "        min_count[i]=i\n",
    "        for j in [c for c in coins if c <=i]:\n",
    "            if min_count[i-j]+1<min_count[i]:\n",
    "                min_count[i]=min_count[i-j]+1\n",
    "                Min_coin_set[i]=Min_coin_set[i-j]+[j]\n",
    "    return min_count[target],Min_coin_set[i]"
   ]
  },
  {
   "cell_type": "code",
   "execution_count": 16,
   "metadata": {
    "collapsed": false
   },
   "outputs": [
    {
     "data": {
      "text/plain": [
       "(3, [5, 5, 5])"
      ]
     },
     "execution_count": 16,
     "metadata": {
     },
     "output_type": "execute_result"
    }
   ],
   "source": [
    "coin_iter(15,[2,5,6])"
   ]
  },
  {
   "cell_type": "markdown",
   "metadata": {
    "collapsed": false
   },
   "source": [
    "For extra read :\n",
    "    https://runestone.academy/runestone/books/published/pythonds/Recursion/DynamicProgramming.html"
   ]
  },
  {
   "cell_type": "code",
   "execution_count": 0,
   "metadata": {
    "collapsed": false
   },
   "outputs": [
   ],
   "source": [
   ]
  }
 ],
 "metadata": {
  "kernelspec": {
   "display_name": "Python 3 (system-wide)",
   "language": "python",
   "metadata": {
    "cocalc": {
     "description": "Python 3 programming language",
     "priority": 100,
     "url": "https://www.python.org/"
    }
   },
   "name": "python3"
  },
  "language_info": {
   "codemirror_mode": {
    "name": "ipython",
    "version": 3
   },
   "file_extension": ".py",
   "mimetype": "text/x-python",
   "name": "python",
   "nbconvert_exporter": "python",
   "pygments_lexer": "ipython3",
   "version": "3.6.8"
  }
 },
 "nbformat": 4,
 "nbformat_minor": 0
}