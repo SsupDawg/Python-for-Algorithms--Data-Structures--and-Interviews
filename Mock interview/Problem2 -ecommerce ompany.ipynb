{
 "cells": [
  {
   "cell_type": "markdown",
   "metadata": {
    "collapsed": false
   },
   "source": [
    "\n",
    "# On-Site Question 2 \n",
    "Problem\n",
    "Given a list of integers, write a function that will return a list, in which for each index the element will be the product of all the integers except for the element at that index\n",
    "\n",
    "For example, an input of [1,2,3,4] would return [24,12,8,6] by performing [2×3×4,1×3×4,1×2×4,1×2×3]\n",
    "\n",
    "Requirements\n",
    "You can not use division in your answer! Meaning you can't simply multiply all the numbers and then divide by eahc element for each index!\n",
    "\n",
    "Try to do this on a white board or with paper/pencil."
   ]
  },
  {
   "cell_type": "code",
   "execution_count": 15,
   "metadata": {
    "collapsed": false
   },
   "outputs": [
   ],
   "source": [
    "def product(arr):\n",
    "    right=[1]* len(arr)\n",
    "    left=[1]*len(arr)\n",
    "    out=[1]*len(arr)\n",
    "    for i in range(1,len(arr)):\n",
    "        right[i]=arr[i-1]*right[i-1]\n",
    "        left[len(arr)-1-i]=left[len(arr)-i]*arr[len(arr)-i]\n",
    "    for i in range (0,len(arr)):\n",
    "        out[i]=left[i]*right[i]\n",
    "    return out"
   ]
  },
  {
   "cell_type": "code",
   "execution_count": 16,
   "metadata": {
    "collapsed": false
   },
   "outputs": [
    {
     "data": {
      "text/plain": [
       "[24, 12, 8, 6]"
      ]
     },
     "execution_count": 16,
     "metadata": {
     },
     "output_type": "execute_result"
    }
   ],
   "source": [
    "product([1,2,3,4])"
   ]
  },
  {
   "cell_type": "code",
   "execution_count": 0,
   "metadata": {
    "collapsed": false
   },
   "outputs": [
   ],
   "source": [
   ]
  },
  {
   "cell_type": "code",
   "execution_count": 0,
   "metadata": {
    "collapsed": false
   },
   "outputs": [
   ],
   "source": [
   ]
  }
 ],
 "metadata": {
  "kernelspec": {
   "display_name": "Python 3 (system-wide)",
   "language": "python",
   "metadata": {
    "cocalc": {
     "description": "Python 3 programming language",
     "priority": 100,
     "url": "https://www.python.org/"
    }
   },
   "name": "python3"
  }
 },
 "nbformat": 4,
 "nbformat_minor": 0
}