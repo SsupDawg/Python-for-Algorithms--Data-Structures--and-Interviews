{
 "cells": [
  {
   "cell_type": "markdown",
   "metadata": {
    "collapsed": false
   },
   "source": [
    "# On-Site Question 1 \n",
    "Problem\n",
    "\n",
    "You've been given a list of historical stock prices for a single day for Amazon stock. The index of the list represents the timestamp, so the element at index of 0 is the initial price of the stock, the element at index 1 is the next recorded price of the stock for that day, etc. Your task is to write a function that will return the maximum profit possible from the purchase and sale of a single share of Amazon stock on that day. Keep in mind to try to make this as efficient as possible.\n",
    "\n",
    "For example, if you were given the list of stock prices:\n",
    "\n",
    "prices = [12,11,15,3,10]\n",
    "\n",
    "Then your function would return the maximum possible profit, which would be 7 (buying at 3 and selling at 10).\n",
    "\n",
    "Requirements\n",
    "Try to solve this problem with paper/pencil first without using an IDE. Also keep in mind you should be able to come up with a better solution than just brute forcing every possible sale combination\n",
    "\n",
    "Also you can't \"short\" a stock, you must buy before you sell the stock."
   ]
  },
  {
   "cell_type": "code",
   "execution_count": 8,
   "metadata": {
    "collapsed": false
   },
   "outputs": [
    {
     "data": {
      "text/plain": [
       "10"
      ]
     },
     "execution_count": 8,
     "metadata": {
     },
     "output_type": "execute_result"
    }
   ],
   "source": [
    "def profit(arr):\n",
    "    if len(arr) < 2:\n",
    "        raise Exception('Need at least two stock prices!')\n",
    "    min_seen=arr[0]\n",
    "    max_profit=arr[1]-arr[0]\n",
    "    for i in range (1,len(arr)):\n",
    "        if arr[i]- min_seen > max_profit :\n",
    "            max_profit = arr[i]-min_seen\n",
    "        if (arr[i]<min_seen):\n",
    "            min_seen=arr[i]\n",
    "    return max_profit\n",
    "\n",
    "prices = [12,5,15,1,10]\n",
    "profit(prices)"
   ]
  },
  {
   "cell_type": "code",
   "execution_count": 0,
   "metadata": {
    "collapsed": false
   },
   "outputs": [
   ],
   "source": [
   ]
  },
  {
   "cell_type": "code",
   "execution_count": 0,
   "metadata": {
    "collapsed": false
   },
   "outputs": [
   ],
   "source": [
   ]
  }
 ],
 "metadata": {
  "kernelspec": {
   "display_name": "Python 3 (system-wide)",
   "language": "python",
   "metadata": {
    "cocalc": {
     "description": "Python 3 programming language",
     "priority": 100,
     "url": "https://www.python.org/"
    }
   },
   "name": "python3"
  },
  "language_info": {
   "codemirror_mode": {
    "name": "ipython",
    "version": 3
   },
   "file_extension": ".py",
   "mimetype": "text/x-python",
   "name": "python",
   "nbconvert_exporter": "python",
   "pygments_lexer": "ipython3",
   "version": "3.6.8"
  }
 },
 "nbformat": 4,
 "nbformat_minor": 0
}