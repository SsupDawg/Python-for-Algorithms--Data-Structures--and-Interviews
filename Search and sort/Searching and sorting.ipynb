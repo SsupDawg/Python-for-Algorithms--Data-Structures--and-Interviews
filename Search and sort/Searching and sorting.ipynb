{
 "cells": [
  {
   "cell_type": "code",
   "execution_count": 0,
   "metadata": {
    "collapsed": false
   },
   "outputs": [
   ],
   "source": [
   ]
  },
  {
   "cell_type": "markdown",
   "metadata": {
    "collapsed": false
   },
   "source": [
    "# Searching and Sorting"
   ]
  },
  {
   "cell_type": "markdown",
   "metadata": {
    "collapsed": false
   },
   "source": [
    "# Sequential search for Unordered list"
   ]
  },
  {
   "cell_type": "code",
   "execution_count": 1,
   "metadata": {
    "collapsed": false
   },
   "outputs": [
   ],
   "source": [
    "def seq_search(arr,element):\n",
    "    pos=0\n",
    "    while pos<len (arr):\n",
    "        if (arr[pos]==element):\n",
    "            return True\n",
    "        pos+=1\n",
    "    return False"
   ]
  },
  {
   "cell_type": "code",
   "execution_count": 2,
   "metadata": {
    "collapsed": false
   },
   "outputs": [
   ],
   "source": [
    "def ordered_seq_search(arr,element):\n",
    "    pos=0\n",
    "    stopped=0\n",
    "    found=0\n",
    "    while not stopped and not found :\n",
    "        if arr[pos]=element:\n",
    "            found=1\n",
    "        else:\n",
    "            if arr[pos]>element:\n",
    "                stopped=1\n",
    "        pos+=1\n",
    "    return found\n",
    "        \n",
    "    "
   ]
  },
  {
   "cell_type": "markdown",
   "metadata": {
    "collapsed": false
   },
   "source": [
    "# Bubble sort"
   ]
  },
  {
   "cell_type": "code",
   "execution_count": 7,
   "metadata": {
    "collapsed": false
   },
   "outputs": [
   ],
   "source": [
    "def Bubble_sort(arr):\n",
    "\tfor i in range(len(arr)-1,0,-1):\n",
    "\t\tfor j in range( 0,i):\n",
    "\t\t\tif arr[j]> arr[j+1]:\n",
    "\t\t\t\ttmp=arr[j]\n",
    "\t\t\t\tarr[j]=arr[j+1]\n",
    "\t\t\t\tarr[j+1]=tmp "
   ]
  },
  {
   "cell_type": "code",
   "execution_count": 9,
   "metadata": {
    "collapsed": false
   },
   "outputs": [
    {
     "name": "stdout",
     "output_type": "stream",
     "text": [
      "[1, 2, 3, 4, 5, 6, 7, 8, 13, 20]\n"
     ]
    }
   ],
   "source": [
    "arr = [3,2,13,4,6,5,7,8,1,20]\n",
    "Bubble_sort(arr)\n",
    "print(arr)"
   ]
  },
  {
   "cell_type": "markdown",
   "metadata": {
    "collapsed": false
   },
   "source": [
    "# Selection sort"
   ]
  },
  {
   "cell_type": "code",
   "execution_count": 9,
   "metadata": {
    "collapsed": false
   },
   "outputs": [
   ],
   "source": [
    "def selection_sort(arr):\n",
    "    for i in range(0,len(arr)-1):\n",
    "        min_pointer=i\n",
    "        j=i+1\n",
    "        while j < len(arr):\n",
    "            if arr[j]<arr[min_pointer] :\n",
    "                min_pointer=j\n",
    "            j+=1\n",
    "        tmp=arr[min_pointer]\n",
    "        arr[min_pointer]=arr[i]\n",
    "        arr[i]=tmp"
   ]
  },
  {
   "cell_type": "code",
   "execution_count": 10,
   "metadata": {
    "collapsed": false
   },
   "outputs": [
    {
     "name": "stdout",
     "output_type": "stream",
     "text": [
      "[1, 2, 3, 4, 5, 6, 7, 8, 13, 20]\n"
     ]
    }
   ],
   "source": [
    "arr = [3,2,13,4,6,5,7,8,1,20]\n",
    "selection_sort(arr)\n",
    "print(arr)"
   ]
  },
  {
   "cell_type": "markdown",
   "metadata": {
    "collapsed": false
   },
   "source": [
    "# insertion sort"
   ]
  },
  {
   "cell_type": "code",
   "execution_count": 12,
   "metadata": {
    "collapsed": false
   },
   "outputs": [
   ],
   "source": [
    "def insertion_sort(arr):\n",
    "\tfor i in range (1,len(arr)):\n",
    "\t\tcurrentvalue=arr[i]\n",
    "\t\tposition=i \n",
    "\t\twhile position>0 and arr[position-1] > currentvalue:\n",
    "\t\t\tarr[position]=arr[position-1]\n",
    "\t\t\tposition=position-1 \n",
    "\t\tarr[position]=currentvalue "
   ]
  },
  {
   "cell_type": "code",
   "execution_count": 13,
   "metadata": {
    "collapsed": false,
    "scrolled": true
   },
   "outputs": [
    {
     "name": "stdout",
     "output_type": "stream",
     "text": [
      "[1, 2, 3, 4, 5, 6, 7, 8, 13, 20]\n"
     ]
    }
   ],
   "source": [
    "arr = [3,2,13,4,6,5,7,8,1,20]\n",
    "insertion_sort(arr)\n",
    "print(arr)"
   ]
  },
  {
   "cell_type": "markdown",
   "metadata": {
    "collapsed": false
   },
   "source": [
    "# Quick Sort"
   ]
  },
  {
   "cell_type": "code",
   "execution_count": 1,
   "metadata": {
    "collapsed": false
   },
   "outputs": [
   ],
   "source": [
    "def quick_sort(arr):\n",
    "  \n",
    "    quick_sort_helper(arr,0,len(arr)-1)\n",
    "    \n",
    "def quick_sort_helper(arr,first,last):\n",
    "    if first <last:\n",
    "        split=partition(arr,first,last)\n",
    "        quick_sort_helper(arr,first,split-1)\n",
    "        quick_sort_helper(arr,split+1,last)\n",
    "def partition(arr,first,last):\n",
    "    left_marker=first+1\n",
    "    right_marker=last\n",
    "    found = False\n",
    "    while not found:\n",
    "        while left_marker <= right_marker and arr[left_marker] <= arr[first]:\n",
    "            left_marker=left_marker +1\n",
    "        while right_marker >= left_marker and arr[right_marker] >= arr[first]:\n",
    "            right_marker=right_marker-1\n",
    "        if (right_marker < left_marker):\n",
    "            found=True\n",
    "        else:\n",
    "            temp = arr[right_marker]\n",
    "            arr[right_marker]=arr[left_marker]\n",
    "            arr[left_marker]=temp\n",
    "    temp=arr[first]\n",
    "    arr[first]=arr[right_marker]\n",
    "    arr[right_marker]=temp\n",
    "    return right_marker\n",
    "        "
   ]
  },
  {
   "cell_type": "code",
   "execution_count": 2,
   "metadata": {
    "collapsed": false
   },
   "outputs": [
    {
     "name": "stdout",
     "output_type": "stream",
     "text": [
      "[1, 2, 3, 4, 5, 6, 7, 8, 13, 20]\n"
     ]
    }
   ],
   "source": [
    "arr = [3,2,13,4,6,5,7,8,1,20]\n",
    "quick_sort(arr)\n",
    "print(arr)"
   ]
  },
  {
   "cell_type": "markdown",
   "metadata": {
    "collapsed": false
   },
   "source": [
    "# merge sort"
   ]
  },
  {
   "cell_type": "code",
   "execution_count": 25,
   "metadata": {
    "collapsed": false
   },
   "outputs": [
   ],
   "source": [
    "def merge_sort(arr):\n",
    "    if len(arr) >1:\n",
    "        pivot= len(arr)//2\n",
    "        left_array= arr[0:pivot]\n",
    "        right_array=arr[pivot:]\n",
    "        merge_sort(right_array)\n",
    "        merge_sort(left_array)\n",
    "        i=0\n",
    "        j=0\n",
    "        k=0\n",
    "        while (i < len(arr) and j< len(left_array) and k <len (right_array)):\n",
    "            if ( left_array [j] <right_array[k]):\n",
    "                arr[i] =left_array[j]\n",
    "                i+=1\n",
    "                j+=1\n",
    "            else:\n",
    "                arr[i]=right_array[k]\n",
    "                k+=1\n",
    "                i+=1\n",
    "        while (j <len(left_array)):\n",
    "            arr[i]=left_array[j]\n",
    "            j+=1\n",
    "            i+=1\n",
    "        while k <len(right_array):\n",
    "            arr[i]=right_array[k]\n",
    "            k+=1\n",
    "            i+=1"
   ]
  },
  {
   "cell_type": "code",
   "execution_count": 26,
   "metadata": {
    "collapsed": false
   },
   "outputs": [
    {
     "name": "stdout",
     "output_type": "stream",
     "text": [
      "[1, 2, 3, 4, 5, 6, 7, 8, 13, 20]\n"
     ]
    }
   ],
   "source": [
    "arr = [3,2,13,4,6,5,7,8,1,20]\n",
    "merge_sort(arr)\n",
    "print(arr)"
   ]
  },
  {
   "cell_type": "markdown",
   "metadata": {
    "collapsed": false
   },
   "source": [
    "# shell sort"
   ]
  },
  {
   "cell_type": "code",
   "execution_count": 27,
   "metadata": {
    "collapsed": false
   },
   "outputs": [
   ],
   "source": [
    "def shell_sort(arr):\n",
    "    L= len(arr)//2\n",
    "    while(L>0):\n",
    "        for start in range (L):\n",
    "            insertion_sort_gap (arr,start,L)\n",
    "        L= L//2\n",
    "\n",
    "def insertion_sort_gap (arr,start,gap):\n",
    "    for i in range(start+gap,len(arr),gap):\n",
    "        pos=i\n",
    "        value=arr[i]\n",
    "        while pos >=gap and arr[pos-gap]>value:\n",
    "            arr[pos]=arr[pos-gap]\n",
    "            pos=pos-gap\n",
    "        arr[pos]=value\n"
   ]
  },
  {
   "cell_type": "code",
   "execution_count": 28,
   "metadata": {
    "collapsed": false
   },
   "outputs": [
    {
     "name": "stdout",
     "output_type": "stream",
     "text": [
      "[1, 2, 3, 4, 5, 6, 7, 8, 13, 20]\n"
     ]
    }
   ],
   "source": [
    "arr = [3,2,13,4,6,5,7,8,1,20]\n",
    "shell_sort(arr)\n",
    "print(arr)"
   ]
  },
  {
   "cell_type": "markdown",
   "metadata": {
    "collapsed": false
   },
   "source": [
    "#binary search"
   ]
  },
  {
   "cell_type": "code",
   "execution_count": 0,
   "metadata": {
    "collapsed": false
   },
   "outputs": [
   ],
   "source": [
   ]
  },
  {
   "cell_type": "code",
   "execution_count": 13,
   "metadata": {
    "collapsed": false
   },
   "outputs": [
    {
     "name": "stdout",
     "output_type": "stream",
     "text": [
      "False\n"
     ]
    }
   ],
   "source": [
    "def Binary_search(arr,num):\n",
    "  first=0\n",
    "  last=len(arr)-1\n",
    "  found=False\n",
    "  while first <= last and not found:\n",
    "    middle=(last+first)//2\n",
    "    if arr[middle]==num:\n",
    "      found=True\n",
    "    else:\n",
    "      if arr[middle]>num:\n",
    "        last=middle-1\n",
    "      else:\n",
    "        first=middle+1\n",
    "  return found"
   ]
  },
  {
   "cell_type": "code",
   "execution_count": 15,
   "metadata": {
    "collapsed": false
   },
   "outputs": [
    {
     "data": {
      "text/plain": [
       "False"
      ]
     },
     "execution_count": 15,
     "metadata": {
     },
     "output_type": "execute_result"
    }
   ],
   "source": [
    "arr = [1,2,3,4,5,6,7,8,9,10]\n",
    "Binary_search(arr,15)"
   ]
  },
  {
   "cell_type": "markdown",
   "metadata": {
    "collapsed": false
   },
   "source": [
    "# hash table"
   ]
  },
  {
   "cell_type": "code",
   "execution_count": 12,
   "metadata": {
    "collapsed": false
   },
   "outputs": [
   ],
   "source": [
    "class HashTable:\n",
    "    def __init__(self,size):\n",
    "        self.size=size\n",
    "        self.slots=[None]*self.size\n",
    "        self.data=[None]*self.size\n",
    "        \n",
    "    def hashfunction(self,key,size):\n",
    "        #remainder method\n",
    "        return size %key\n",
    "    def rehash(self,oldhash,size):\n",
    "        return (oldhash+1 )%size\n",
    "    def put(self,key,data):\n",
    "        \n",
    "        #get the hash value\n",
    "        hashvalue= self.hashfunction(key,len(self.slots)-1)\n",
    "        \n",
    "        # if the slot is empty\n",
    "        if self.slots[hashvalue]==None:\n",
    "            self.slots[hashvalue]=key\n",
    "            self.data[hashvalue]=data\n",
    "            #if the key already exist\n",
    "        else:\n",
    "            if self.slots[hashvalue]==key:\n",
    "                self.data[hashvalue]=data\n",
    "                #otherwise find the next available slot\n",
    "            else:\n",
    "                nextslot=self.rehash(hashvalue,len(self.slots))\n",
    "                while self.slots[nextslot]!=None and self.slots[nextslot]!=key:\n",
    "                    nextslot=self.rehash[nextslot,len(self.slots)]\n",
    "                self.slots[nextslot]=key\n",
    "                self.data[nextslot]=data\n",
    "    def get(self,key):\n",
    "        startsslot=self.hashfunction(key,len(self.slots)-1)\n",
    "        data=None\n",
    "        stop=False\n",
    "        found=False\n",
    "        position=startsslot\n",
    "        while self.slots[position] !=None and not stop and not found:\n",
    "            if self.slots[position]==key:\n",
    "                found=True\n",
    "                data=self.data[position]\n",
    "            else:\n",
    "                position=self.rehash(position,len(self.slots))\n",
    "                if position ==startspoint:\n",
    "                    stop=True\n",
    "        return data\n",
    "    def __setitem__(self,key,data):\n",
    "        self.put(key,data)\n",
    "    def __getitem__(self,key):\n",
    "        return self.get(key)\n",
    "        \n",
    "        "
   ]
  },
  {
   "cell_type": "code",
   "execution_count": 0,
   "metadata": {
    "collapsed": false
   },
   "outputs": [
   ],
   "source": [
   ]
  },
  {
   "cell_type": "code",
   "execution_count": 16,
   "metadata": {
    "collapsed": false
   },
   "outputs": [
    {
     "name": "stdout",
     "output_type": "stream",
     "text": [
      "us\n"
     ]
    }
   ],
   "source": [
    "h=HashTable(10)\n",
    "h[54]='us'\n",
    "h[10]='canada'\n",
    "print(h[54])"
   ]
  },
  {
   "cell_type": "code",
   "execution_count": 14,
   "metadata": {
    "collapsed": false
   },
   "outputs": [
    {
     "name": "stdout",
     "output_type": "stream",
     "text": [
      "ehsan\n"
     ]
    }
   ],
   "source": [
   ]
  },
  {
   "cell_type": "code",
   "execution_count": 0,
   "metadata": {
    "collapsed": false
   },
   "outputs": [
   ],
   "source": [
   ]
  }
 ],
 "metadata": {
  "kernelspec": {
   "display_name": "Python 3 (system-wide)",
   "language": "python",
   "metadata": {
    "cocalc": {
     "description": "Python 3 programming language",
     "priority": 100,
     "url": "https://www.python.org/"
    }
   },
   "name": "python3"
  },
  "language_info": {
   "codemirror_mode": {
    "name": "ipython",
    "version": 3
   },
   "file_extension": ".py",
   "mimetype": "text/x-python",
   "name": "python",
   "nbconvert_exporter": "python",
   "pygments_lexer": "ipython3",
   "version": "3.6.8"
  }
 },
 "nbformat": 4,
 "nbformat_minor": 0
}