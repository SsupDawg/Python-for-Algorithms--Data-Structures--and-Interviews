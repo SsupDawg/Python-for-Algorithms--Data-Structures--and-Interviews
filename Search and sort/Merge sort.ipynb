{
 "cells": [
  {
   "cell_type": "code",
   "execution_count": 0,
   "metadata": {
    "collapsed": false
   },
   "outputs": [
   ],
   "source": [
    "# merge sort"
   ]
  },
  {
   "cell_type": "code",
   "execution_count": 2,
   "metadata": {
    "collapsed": false
   },
   "outputs": [
   ],
   "source": [
    "def merge_sort(arr):\n",
    "    if len(arr) >1:\n",
    "        pivot= len(arr)//2\n",
    "        left_array= arr[0:pivot]\n",
    "        right_array=arr[pivot:]\n",
    "        merge_sort(right_array)\n",
    "        merge_sort(left_array)\n",
    "        i=0\n",
    "        j=0\n",
    "        k=0\n",
    "        while (i < len(arr) and j< len(left_array) and k <len (right_array)):\n",
    "            if ( left_array [j] <right_array[k]):\n",
    "                arr[i] =left_array[j]\n",
    "                i+=1\n",
    "                j+=1\n",
    "            else:\n",
    "                arr[i]=right_array[k]\n",
    "                k+=1\n",
    "                i+=1\n",
    "        while (j <len(left_array)):\n",
    "            arr[i]=left_array[j]\n",
    "            j+=1\n",
    "            i+=1\n",
    "        while k <len(right_array):\n",
    "            arr[i]=right_array[k]\n",
    "            k+=1\n",
    "            i+=1"
   ]
  },
  {
   "cell_type": "code",
   "execution_count": 3,
   "metadata": {
    "collapsed": false
   },
   "outputs": [
    {
     "name": "stdout",
     "output_type": "stream",
     "text": [
      "[1, 2, 3, 4, 5, 6, 7, 8, 13, 20]\n"
     ]
    }
   ],
   "source": [
    "arr = [3,2,13,4,6,5,7,8,1,20]\n",
    "merge_sort(arr)\n",
    "print(arr)"
   ]
  },
  {
   "cell_type": "code",
   "execution_count": 0,
   "metadata": {
    "collapsed": false
   },
   "outputs": [
   ],
   "source": [
   ]
  }
 ],
 "metadata": {
  "kernelspec": {
   "display_name": "Python 3 (system-wide)",
   "language": "python",
   "metadata": {
    "cocalc": {
     "description": "Python 3 programming language",
     "priority": 100,
     "url": "https://www.python.org/"
    }
   },
   "name": "python3"
  },
  "language_info": {
   "codemirror_mode": {
    "name": "ipython",
    "version": 3
   },
   "file_extension": ".py",
   "mimetype": "text/x-python",
   "name": "python",
   "nbconvert_exporter": "python",
   "pygments_lexer": "ipython3",
   "version": "3.6.8"
  }
 },
 "nbformat": 4,
 "nbformat_minor": 0
}