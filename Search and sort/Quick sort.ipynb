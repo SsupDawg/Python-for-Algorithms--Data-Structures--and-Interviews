{
 "cells": [
  {
   "cell_type": "code",
   "execution_count": 3,
   "metadata": {
    "collapsed": false
   },
   "outputs": [
   ],
   "source": [
    "# quick sort"
   ]
  },
  {
   "cell_type": "code",
   "execution_count": 2,
   "metadata": {
    "collapsed": false
   },
   "outputs": [
   ],
   "source": [
    "def quick_sort(arr):\n",
    "  \n",
    "    quick_sort_helper(arr,0,len(arr)-1)\n",
    "    \n",
    "def quick_sort_helper(arr,first,last):\n",
    "    if first <last:\n",
    "        split=partition(arr,first,last)\n",
    "        quick_sort_helper(arr,first,split-1)\n",
    "        quick_sort_helper(arr,split+1,last)\n",
    "def partition(arr,first,last):\n",
    "    left_marker=first+1\n",
    "    right_marker=last\n",
    "    found = False\n",
    "    while not found:\n",
    "        while left_marker <= right_marker and arr[left_marker] <= arr[first]:\n",
    "            left_marker=left_marker +1\n",
    "        while right_marker >= left_marker and arr[right_marker] >= arr[first]:\n",
    "            right_marker=right_marker-1\n",
    "        if (right_marker < left_marker):\n",
    "            found=True\n",
    "        else:\n",
    "            temp = arr[right_marker]\n",
    "            arr[right_marker]=arr[left_marker]\n",
    "            arr[left_marker]=temp\n",
    "    temp=arr[first]\n",
    "    arr[first]=arr[right_marker]\n",
    "    arr[right_marker]=temp\n",
    "    return right_marker\n",
    "        "
   ]
  },
  {
   "cell_type": "code",
   "execution_count": 4,
   "metadata": {
    "collapsed": false
   },
   "outputs": [
    {
     "name": "stdout",
     "output_type": "stream",
     "text": [
      "[1, 2, 3, 4, 5, 6, 7, 8, 13, 20]\n"
     ]
    }
   ],
   "source": [
    "arr = [3,2,13,4,6,5,7,8,1,20]\n",
    "quick_sort(arr)\n",
    "print(arr)"
   ]
  },
  {
   "cell_type": "code",
   "execution_count": 0,
   "metadata": {
    "collapsed": false
   },
   "outputs": [
   ],
   "source": [
   ]
  }
 ],
 "metadata": {
  "kernelspec": {
   "display_name": "Python 3 (system-wide)",
   "language": "python",
   "metadata": {
    "cocalc": {
     "description": "Python 3 programming language",
     "priority": 100,
     "url": "https://www.python.org/"
    }
   },
   "name": "python3"
  },
  "language_info": {
   "codemirror_mode": {
    "name": "ipython",
    "version": 3
   },
   "file_extension": ".py",
   "mimetype": "text/x-python",
   "name": "python",
   "nbconvert_exporter": "python",
   "pygments_lexer": "ipython3",
   "version": "3.6.8"
  }
 },
 "nbformat": 4,
 "nbformat_minor": 0
}