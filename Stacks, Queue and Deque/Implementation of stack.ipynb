{
 "cells": [
  {
   "cell_type": "markdown",
   "metadata": {
    "collapsed": false
   },
   "source": [
    "\n",
    "# Implementation of Stack\n",
    "Stack Attributes and Methods Before we implement our own Stack class, let's review the properties and methods of a Stack.\n",
    "\n",
    "The stack abstract data type is defined by the following structure and operations. A stack is structured, as described above, as an ordered collection of items where items are added to and removed from the end called the “top.” Stacks are ordered LIFO. The stack operations are given below.\n",
    "\n",
    "Stack(): creates a new stack that is empty. It needs no parameters and returns an empty stack.\n",
    "\n",
    "push(item) :adds a new item to the top of the stack. It needs the item and returns nothing.\n",
    "\n",
    "pop(): removes the top item from the stack. It needs no parameters and returns the item. The stack is modified.\n",
    "\n",
    "peek() :returns the top item from the stack but does not remove it. It needs no parameters. The stack is not modified.\n",
    "\n",
    "isEmpty() :tests to see whether the stack is empty. It needs no parameters and returns a boolean value.\n",
    "\n",
    "size() :returns the number of items on the stack. It needs no parameters and returns an integer."
   ]
  },
  {
   "cell_type": "code",
   "execution_count": 0,
   "metadata": {
    "collapsed": false
   },
   "outputs": [
   ],
   "source": [
   ]
  }
 ],
 "metadata": {
  "kernelspec": {
   "display_name": "Python 3 (system-wide)",
   "language": "python",
   "metadata": {
    "cocalc": {
     "description": "Python 3 programming language",
     "priority": 100,
     "url": "https://www.python.org/"
    }
   },
   "name": "python3"
  },
  "language_info": {
   "codemirror_mode": {
    "name": "ipython",
    "version": 3
   },
   "file_extension": ".py",
   "mimetype": "text/x-python",
   "name": "python",
   "nbconvert_exporter": "python",
   "pygments_lexer": "ipython3",
   "version": "3.6.8"
  }
 },
 "nbformat": 4,
 "nbformat_minor": 0
}