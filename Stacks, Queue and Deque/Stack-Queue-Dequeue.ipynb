{
 "cells": [
  {
   "cell_type": "markdown",
   "metadata": {
    "collapsed": false
   },
   "source": [
    "\n",
    "# Implementation of Stack\n",
    "Stack Attributes and Methods\n",
    "Before we implement our own Stack class, let's review the properties and methods of a Stack.\n",
    "\n",
    "The stack abstract data type is defined by the following structure and operations. A stack is structured, as described above, as an ordered collection of items where items are added to and removed from the end called the “top.” Stacks are ordered LIFO. The stack operations are given below.\n",
    "\n",
    "Stack() creates a new stack that is empty. It needs no parameters and returns an empty stack.\n",
    "\n",
    "push(item) adds a new item to the top of the stack. It needs the item and returns nothing.\n",
    "\n",
    "pop() removes the top item from the stack. It needs no parameters and returns the item. The stack is modified.\n",
    "\n",
    "peek() returns the top item from the stack but does not remove it. It needs no parameters. The stack is not modified.\n",
    "\n",
    "isEmpty() tests to see whether the stack is empty. It needs no parameters and returns a boolean value.\n",
    "\n",
    "size() returns the number of items on the stack. It needs no parameters and returns an integer."
   ]
  },
  {
   "cell_type": "code",
   "execution_count": 1,
   "metadata": {
    "collapsed": false
   },
   "outputs": [
   ],
   "source": [
    "class stack:\n",
    "    def __init__(self):\n",
    "        self.items=[]\n",
    "    def push(self,item):\n",
    "        self.items.append(item)\n",
    "    def pop(self):\n",
    "        return self.items.pop()\n",
    "    def peek(self):\n",
    "        return self[len[self.items]-1]\n",
    "    def isEmpty(self):\n",
    "        return len(self.items)==0\n",
    "    def size(self):\n",
    "        return len(self.items)\n"
   ]
  },
  {
   "cell_type": "markdown",
   "metadata": {
    "collapsed": false
   },
   "source": [
    "\n",
    "# Implementation of Queue\n",
    "In this lecture we will build on our previous understanding of Queues by implementing our own class of Queue!\n",
    "\n",
    "Queue Methods and Attributes\n",
    "Before we begin implementing our own queue, let's review the attribute and methods it will have:\n",
    "\n",
    "Queue() creates a new queue that is empty. It needs no parameters and returns an empty queue.\n",
    "\n",
    "enqueue(item) adds a new item to the rear of the queue. It needs the item and returns nothing.\n",
    "\n",
    "dequeue() removes the front item from the queue. It needs no parameters and returns the item. The queue is modified.\n",
    "\n",
    "isEmpty() tests to see whether the queue is empty. It needs no parameters and returns a boolean value.\n",
    "\n",
    "size() returns the number of items in the queue. It needs no parameters and returns an integer."
   ]
  },
  {
   "cell_type": "code",
   "execution_count": 3,
   "metadata": {
    "collapsed": false
   },
   "outputs": [
   ],
   "source": [
    "class Queue:\n",
    "    def __init__(self):\n",
    "        self.item=[]\n",
    "    def size(self):\n",
    "        return len(self.item)\n",
    "    def isEmpty(self):\n",
    "        return self.item==[]\n",
    "    def enqueue(self,n):\n",
    "        self.item.insert(0,n)\n",
    "    def dequeue(self):\n",
    "        return self.item.pop()\n",
    "        "
   ]
  },
  {
   "cell_type": "markdown",
   "metadata": {
    "collapsed": false
   },
   "source": [
    "# Implementation of Deque\n",
    "In this lecture we will implement our own Deque class!\n",
    "\n",
    "Methods and Attributes\n",
    "Deque() creates a new deque that is empty. It needs no parameters and returns an empty deque.\n",
    "\n",
    "addFront(item) adds a new item to the front of the deque. It needs the item and returns nothing.\n",
    "\n",
    "addRear(item) adds a new item to the rear of the deque. It needs the item and returns nothing.\n",
    "\n",
    "removeFront() removes the front item from the deque. It needs no parameters and returns the item. The deque is modified.\n",
    "\n",
    "removeRear() removes the rear item from the deque. It needs no parameters and returns the item. The deque is modified.\n",
    "\n",
    "isEmpty() tests to see whether the deque is empty. It needs no parameters and returns a boolean value.\n",
    "\n",
    "size() returns the number of items in the deque. It needs no parameters and returns an integer."
   ]
  },
  {
   "cell_type": "code",
   "execution_count": 7,
   "metadata": {
    "collapsed": false
   },
   "outputs": [
   ],
   "source": [
    "class Deque:\n",
    "    def __init__(self):\n",
    "        self.item=[]\n",
    "    def isEmpty(self):\n",
    "        return self.item==[]\n",
    "    def size(self):\n",
    "        return len(self.item)\n",
    "    def addfront(self,n):\n",
    "        self.item.append(n)\n",
    "    def addRear(self,n):\n",
    "        self.item.insert(0,n)\n",
    "    def removeFront(self):\n",
    "        return self.item.pop()\n",
    "    def removeFront(self):\n",
    "        return self.item.pop(0)\n",
    "        \n",
    "    "
   ]
  },
  {
   "cell_type": "markdown",
   "metadata": {
    "collapsed": false
   },
   "source": [
    "# Balanced Parentheses Check -\n",
    "Problem Statement\n",
    "Given a string of opening and closing parentheses, check whether it’s balanced. We have 3 types of parentheses: round brackets: (), square brackets: [], and curly brackets: {}. Assume that the string doesn’t contain any other character than these, no spaces words or numbers. As a reminder, balanced parentheses require every opening parenthesis to be closed in the reverse order opened. For example ‘([])’ is balanced but ‘([)]’ is not.\n",
    "\n",
    "You can assume the input string has no spaces."
   ]
  },
  {
   "cell_type": "code",
   "execution_count": 3,
   "metadata": {
    "collapsed": false
   },
   "outputs": [
   ],
   "source": [
    "def Parantheses_check(s):\n",
    "    stack=[]\n",
    "    open_p=set(['(','[','{'])\n",
    "    check=([('(',')'),('[',']'),('{','}')])\n",
    "    if len(s)%2 ==0:\n",
    "        return False\n",
    "    for item in s:\n",
    "        if item in open_p:\n",
    "            stack.append(item)\n",
    "        else:\n",
    "            if len(stack)==0:\n",
    "                return False\n",
    "            last_open=stack.pop()\n",
    "            if (last_open,item) not in check:\n",
    "                return False\n",
    "    return True\n",
    "            \n",
    "    \n",
    "    \n",
    "    \n",
    "    \n",
    "    \n",
    "    "
   ]
  },
  {
   "cell_type": "code",
   "execution_count": 4,
   "metadata": {
    "collapsed": false
   },
   "outputs": [
    {
     "data": {
      "text/plain": [
       "False"
      ]
     },
     "execution_count": 4,
     "metadata": {
     },
     "output_type": "execute_result"
    }
   ],
   "source": [
    "Parantheses_check('[[{(}]]')"
   ]
  },
  {
   "cell_type": "code",
   "execution_count": 0,
   "metadata": {
    "collapsed": false
   },
   "outputs": [
   ],
   "source": [
   ]
  }
 ],
 "metadata": {
  "kernelspec": {
   "display_name": "Python 3 (system-wide)",
   "language": "python",
   "metadata": {
    "cocalc": {
     "description": "Python 3 programming language",
     "priority": 100,
     "url": "https://www.python.org/"
    }
   },
   "name": "python3"
  },
  "language_info": {
   "codemirror_mode": {
    "name": "ipython",
    "version": 3
   },
   "file_extension": ".py",
   "mimetype": "text/x-python",
   "name": "python",
   "nbconvert_exporter": "python",
   "pygments_lexer": "ipython3",
   "version": "3.6.8"
  }
 },
 "nbformat": 4,
 "nbformat_minor": 0
}